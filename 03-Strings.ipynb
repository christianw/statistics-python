{
 "cells": [
  {
   "cell_type": "markdown",
   "metadata": {},
   "source": [
    "# Strings\n",
    "\n",
    "Text is a string data type. Any data type written as text is a string. Any data under single, double or triple quote are strings. There are different string methods and built-in functions to deal with string data types. To check the length of a string use the len() method.\n",
    "\n",
    "### Creating a String"
   ]
  },
  {
   "cell_type": "code",
   "execution_count": null,
   "metadata": {},
   "outputs": [],
   "source": [
    "letter = 'P'                # A string could be a single character or a bunch of texts\n",
    "print(letter)               # P\n",
    "print(len(letter))          # 1\n",
    "greeting = 'Hello, World!'  # String could be made using a single or double quote,\"Hello, World!\"\n",
    "print(greeting)             # Hello, World!\n",
    "print(len(greeting))        # 13\n",
    "sentence = \"I hope you are enjoying 30 days of Python Challenge\"\n",
    "print(sentence)"
   ]
  },
  {
   "cell_type": "markdown",
   "metadata": {},
   "source": [
    "Multiline string is created by using triple single (''') or triple double quotes (\"\"\"). See the example below."
   ]
  },
  {
   "cell_type": "code",
   "execution_count": null,
   "metadata": {},
   "outputs": [],
   "source": [
    "multiline_string = '''I am a teacher and enjoy teaching.\n",
    "I didn't find anything as rewarding as empowering people.\n",
    "That is why I created 30 days of python.'''\n",
    "print(multiline_string)\n",
    "\n",
    "# Another way of doing the same thing\n",
    "multiline_string = \"\"\"I am a teacher and enjoy teaching.\n",
    "I didn't find anything as rewarding as empowering people.\n",
    "That is why I created 30 days of python.\"\"\"\n",
    "print(multiline_string)"
   ]
  },
  {
   "cell_type": "markdown",
   "metadata": {},
   "source": [
    "### String Concatenation\n",
    "\n",
    "We can connect strings together. Merging or connecting strings is called concatenation. See the example below:"
   ]
  },
  {
   "cell_type": "code",
   "execution_count": null,
   "metadata": {},
   "outputs": [],
   "source": [
    "first_name = 'Asabeneh'\n",
    "last_name = 'Yetayeh'\n",
    "space = ' '\n",
    "full_name = first_name  +  space + last_name\n",
    "print(full_name) # Asabeneh Yetayeh\n",
    "# Checking the length of a string using len() built-in function\n",
    "print(len(first_name))  # 8\n",
    "print(len(last_name))   # 7\n",
    "print(len(first_name) > len(last_name)) # True\n",
    "print(len(full_name)) # 16"
   ]
  },
  {
   "cell_type": "markdown",
   "metadata": {},
   "source": [
    "### Escape Sequences in Strings\n",
    "\n",
    "In Python and other programming languages \\ followed by a character is an escape sequence. Let us see the most common escape characters:\n",
    "\n",
    "- \\n: new line\n",
    "- \\t: Tab means(8 spaces)\n",
    "- \\\\\\\\: Back slash\n",
    "- \\\\': Single quote (')\n",
    "- \\\\\": Double quote (\")\n",
    "\n",
    "Now, let us see the use of the above escape sequences with examples."
   ]
  },
  {
   "cell_type": "code",
   "execution_count": null,
   "metadata": {},
   "outputs": [],
   "source": [
    "print('I hope everyone is enjoying the Python Challenge.\\nAre you ?') # line break\n",
    "print('Days\\tTopics\\tExercises') # adding tab space or 4 spaces \n",
    "print('Day 1\\t5\\t5')\n",
    "print('Day 2\\t6\\t20')\n",
    "print('Day 3\\t5\\t23')\n",
    "print('Day 4\\t1\\t35')\n",
    "print('This is a backslash  symbol (\\\\)') # To write a backslash\n",
    "print('In every programming language it starts with \\\"Hello, World!\\\"') # to write a double quote inside a single quote"
   ]
  },
  {
   "cell_type": "markdown",
   "metadata": {},
   "source": [
    "### String formatting\n",
    "\n",
    "#### Old Style String Formatting (% Operator)\n",
    "\n",
    "In Python there are many ways of formatting strings. In this section, we will cover some of them.\n",
    "The \"%\" operator is used to format a set of variables enclosed in a \"tuple\" (a fixed size list), together with a format string, which contains normal text together with \"argument specifiers\", special symbols like \"%s\", \"%d\", \"%f\", \"%.<small>number of digits</small>f\".\n",
    "\n",
    "- %s - String (or any object with a string representation, like numbers)\n",
    "- %d - Integers\n",
    "- %f - Floating point numbers\n",
    "- \"%.<small>number of digits</small>f\" - Floating point numbers with fixed precision"
   ]
  },
  {
   "cell_type": "code",
   "execution_count": null,
   "metadata": {},
   "outputs": [],
   "source": [
    "# Strings only\n",
    "first_name = 'Asabeneh'\n",
    "last_name = 'Yetayeh'\n",
    "language = 'Python'\n",
    "formated_string = 'I am %s %s. I teach %s' %(first_name, last_name, language)\n",
    "print(formated_string)\n",
    "\n",
    "# Strings  and numbers\n",
    "radius = 10\n",
    "pi = 3.14\n",
    "area = pi * radius ** 2\n",
    "formated_string = 'The area of circle with a radius %d is %.2f.' %(radius, area) # 2 refers the 2 significant digits after the point\n",
    "\n",
    "python_libraries = ['Django', 'Flask', 'NumPy', 'Matplotlib','Pandas']\n",
    "formated_string = 'The following are python libraries:%s' % (python_libraries)\n",
    "print(formated_string) # \"The following are python libraries:['Django', 'Flask', 'NumPy', 'Matplotlib','Pandas']\""
   ]
  },
  {
   "cell_type": "markdown",
   "metadata": {},
   "source": [
    "#### New Style String Formatting (str.format)\n",
    "\n",
    "This formatting is introduced in Python version 3."
   ]
  },
  {
   "cell_type": "code",
   "execution_count": null,
   "metadata": {},
   "outputs": [],
   "source": [
    "first_name = 'Asabeneh'\n",
    "last_name = 'Yetayeh'\n",
    "language = 'Python'\n",
    "formated_string = 'I am {} {}. I teach {}'.format(first_name, last_name, language)\n",
    "print(formated_string)\n",
    "a = 4\n",
    "b = 3\n",
    "\n",
    "print('{} + {} = {}'.format(a, b, a + b))\n",
    "print('{} - {} = {}'.format(a, b, a - b))\n",
    "print('{} * {} = {}'.format(a, b, a * b))\n",
    "print('{} / {} = {:.2f}'.format(a, b, a / b)) # limits it to two digits after decimal\n",
    "print('{} % {} = {}'.format(a, b, a % b))\n",
    "print('{} // {} = {}'.format(a, b, a // b))\n",
    "print('{} ** {} = {}'.format(a, b, a ** b))\n",
    "\n",
    "# Strings  and numbers\n",
    "radius = 10\n",
    "pi = 3.14\n",
    "area = pi * radius ** 2\n",
    "formated_string = 'The area of a circle with a radius {} is {:.2f}.'.format(radius, area) # 2 digits after decimal\n",
    "print(formated_string)"
   ]
  },
  {
   "cell_type": "markdown",
   "metadata": {},
   "source": [
    "#### String Interpolation / f-Strings (Python 3.6+)\n",
    "\n",
    "Another new string formatting is string interpolation, f-strings. Strings start with f and we can inject the data in their corresponding positions."
   ]
  },
  {
   "cell_type": "code",
   "execution_count": null,
   "metadata": {},
   "outputs": [],
   "source": [
    "a = 4\n",
    "b = 3\n",
    "print(f'{a} + {b} = {a +b}')\n",
    "print(f'{a} - {b} = {a - b}')\n",
    "print(f'{a} * {b} = {a * b}')\n",
    "print(f'{a} / {b} = {a / b:.2f}')\n",
    "print(f'{a} % {b} = {a % b}')\n",
    "print(f'{a} // {b} = {a // b}')\n",
    "print(f'{a} ** {b} = {a ** b}')"
   ]
  },
  {
   "cell_type": "markdown",
   "metadata": {},
   "source": [
    "### Python Strings as Sequences of Characters\n",
    "\n",
    "Python strings are sequences of characters, and share their basic methods of access with other Python ordered sequences of objects – lists and tuples. The simplest way of extracting single characters from strings (and individual members from any sequence) is to unpack them into corresponding variables.\n",
    "\n",
    "#### Unpacking Characters\n",
    "\n",
    "```\n",
    "language = 'Python'\n",
    "a,b,c,d,e,f = language # unpacking sequence characters into variables\n",
    "print(a) # P\n",
    "print(b) # y\n",
    "print(c) # t\n",
    "print(d) # h\n",
    "print(e) # o\n",
    "print(f) # n\n",
    "```\n",
    "\n",
    "#### Accessing Characters in Strings by Index\n",
    "\n",
    "In programming counting starts from zero. Therefore the first letter of a string is at zero index and the last letter of a string is the length of a string minus one."
   ]
  },
  {
   "attachments": {
    "ef441797-c53b-494a-b609-712c49912177.png": {
     "image/png": "[encoded data removed]"
    }
   },
   "cell_type": "markdown",
   "metadata": {},
   "source": [
    "![image.png](attachment:ef441797-c53b-494a-b609-712c49912177.png)"
   ]
  },
  {
   "cell_type": "markdown",
   "metadata": {},
   "source": []
  },
  {
   "cell_type": "code",
   "execution_count": null,
   "metadata": {},
   "outputs": [],
   "source": [
    "language = 'Python'\n",
    "first_letter = language[0]\n",
    "print(first_letter) # P\n",
    "second_letter = language[1]\n",
    "print(second_letter) # y\n",
    "last_index = len(language) - 1\n",
    "last_letter = language[last_index]\n",
    "print(last_letter) # n"
   ]
  },
  {
   "cell_type": "markdown",
   "metadata": {},
   "source": [
    "If we want to start from right end we can use negative indexing. -1 is the last index."
   ]
  },
  {
   "cell_type": "code",
   "execution_count": null,
   "metadata": {},
   "outputs": [],
   "source": [
    "language = 'Python'\n",
    "last_letter = language[-1]\n",
    "print(last_letter) # n\n",
    "second_last = language[-2]\n",
    "print(second_last) # o"
   ]
  },
  {
   "cell_type": "markdown",
   "metadata": {},
   "source": [
    "#### Slicing Python Strings\n",
    "\n",
    "In python we can slice strings into substrings."
   ]
  },
  {
   "cell_type": "code",
   "execution_count": null,
   "metadata": {},
   "outputs": [],
   "source": [
    "language = 'Python'\n",
    "first_three = language[0:3] # starts at zero index and up to 3 but not include 3\n",
    "print(first_three) #Pyt\n",
    "last_three = language[3:6]\n",
    "print(last_three) # hon\n",
    "# Another way\n",
    "last_three = language[-3:]\n",
    "print(last_three)   # hon\n",
    "last_three = language[3:]\n",
    "print(last_three)   # hon"
   ]
  },
  {
   "cell_type": "markdown",
   "metadata": {},
   "source": [
    "#### Reversing a String\n",
    "\n",
    "We can easily reverse strings in python."
   ]
  },
  {
   "cell_type": "code",
   "execution_count": null,
   "metadata": {},
   "outputs": [],
   "source": [
    "greeting = 'Hello, World!'\n",
    "print(greeting[::-1]) # !dlroW ,olleH"
   ]
  },
  {
   "cell_type": "markdown",
   "metadata": {},
   "source": [
    "#### Skipping Characters While Slicing\n",
    "\n",
    "It is possible to skip characters while slicing by passing step argument to slice method."
   ]
  },
  {
   "cell_type": "code",
   "execution_count": null,
   "metadata": {},
   "outputs": [],
   "source": [
    "language = 'Python'\n",
    "pto = language[0:6:2] #\n",
    "print(pto) # Pto"
   ]
  },
  {
   "cell_type": "markdown",
   "metadata": {},
   "source": [
    "### String Methods\n",
    "\n",
    "There are many string methods which allow us to format strings. See some of the string methods in the following example:\n",
    "\n",
    "- capitalize(): Converts the first character of the string to capital letter"
   ]
  },
  {
   "cell_type": "code",
   "execution_count": null,
   "metadata": {},
   "outputs": [],
   "source": [
    "challenge = 'thirty days of python'\n",
    "print(challenge.capitalize()) # 'Thirty days of python'"
   ]
  },
  {
   "cell_type": "markdown",
   "metadata": {},
   "source": [
    "- count(): returns occurrences of substring in string, count(substring, start=.., end=..). The start is a starting indexing for counting and end is the last index to count."
   ]
  },
  {
   "cell_type": "code",
   "execution_count": null,
   "metadata": {},
   "outputs": [],
   "source": [
    "challenge = 'thirty days of python'\n",
    "print(challenge.count('y')) # 3\n",
    "print(challenge.count('y', 7, 14)) # 1, \n",
    "print(challenge.count('th')) # 2`"
   ]
  },
  {
   "cell_type": "markdown",
   "metadata": {},
   "source": [
    "- endswith(): Checks if a string ends with a specified ending"
   ]
  },
  {
   "cell_type": "code",
   "execution_count": null,
   "metadata": {},
   "outputs": [],
   "source": [
    "challenge = 'thirty days of python'\n",
    "print(challenge.endswith('on'))   # True\n",
    "print(challenge.endswith('tion')) # False"
   ]
  },
  {
   "cell_type": "markdown",
   "metadata": {},
   "source": [
    "- expandtabs(): Replaces tab character with spaces, default tab size is 8. It takes tab size argument"
   ]
  },
  {
   "cell_type": "code",
   "execution_count": null,
   "metadata": {},
   "outputs": [],
   "source": [
    "challenge = 'thirty\\tdays\\tof\\tpython'\n",
    "print(challenge.expandtabs())   # 'thirty  days    of      python'\n",
    "print(challenge.expandtabs(10)) # 'thirty    days      of        python'"
   ]
  },
  {
   "cell_type": "markdown",
   "metadata": {},
   "source": [
    "- find(): Returns the index of the first occurrence of a substring, if not found returns -1"
   ]
  },
  {
   "cell_type": "code",
   "execution_count": null,
   "metadata": {},
   "outputs": [],
   "source": [
    "challenge = 'thirty days of python'\n",
    "print(challenge.find('y'))  # 5\n",
    "print(challenge.find('th')) # 0"
   ]
  },
  {
   "cell_type": "markdown",
   "metadata": {},
   "source": [
    "- rfind(): Returns the index of the last occurrence of a substring, if not found returns -1"
   ]
  },
  {
   "cell_type": "code",
   "execution_count": null,
   "metadata": {},
   "outputs": [],
   "source": [
    "challenge = 'thirty days of python'\n",
    "print(challenge.rfind('y'))  # 16\n",
    "print(challenge.rfind('th')) # 17"
   ]
  },
  {
   "cell_type": "markdown",
   "metadata": {},
   "source": [
    "- format(): formats string into a nicer output  \n",
    "   More about string formatting check this [link](https://www.programiz.com/python-programming/methods/string/format)"
   ]
  },
  {
   "cell_type": "code",
   "execution_count": null,
   "metadata": {},
   "outputs": [],
   "source": [
    "first_name = 'Asabeneh'\n",
    "last_name = 'Yetayeh'\n",
    "age = 250\n",
    "job = 'teacher'\n",
    "country = 'Finland'\n",
    "sentence = 'I am {} {}. I am a {}. I am {} years old. I live in {}.'.format(first_name, last_name, age, job, country)\n",
    "print(sentence) # I am Asabeneh Yetayeh. I am 250 years old. I am a teacher. I live in Finland.\n",
    "\n",
    "radius = 10\n",
    "pi = 3.14\n",
    "area = pi * radius ** 2\n",
    "result = 'The area of a circle with radius {} is {}'.format(str(radius), str(area))\n",
    "print(result) # The area of a circle with radius 10 is 314"
   ]
  },
  {
   "cell_type": "markdown",
   "metadata": {},
   "source": [
    "- index(): Returns the lowest index of a substring, additional arguments indicate starting and ending index (default 0 and string length - 1). If the substring is not found it raises a valueError."
   ]
  },
  {
   "cell_type": "code",
   "execution_count": null,
   "metadata": {},
   "outputs": [],
   "source": [
    "challenge = 'thirty days of python'\n",
    "sub_string = 'da'\n",
    "print(challenge.index(sub_string))  # 7\n",
    "print(challenge.index(sub_string, 9)) # error"
   ]
  },
  {
   "cell_type": "markdown",
   "metadata": {},
   "source": [
    "- rindex(): Returns the highest index of a substring, additional arguments indicate starting and ending index (default 0 and string length - 1)"
   ]
  },
  {
   "cell_type": "code",
   "execution_count": null,
   "metadata": {},
   "outputs": [],
   "source": [
    "challenge = 'thirty days of python'\n",
    "sub_string = 'da'\n",
    "print(challenge.rindex(sub_string))  # 8\n",
    "print(challenge.rindex(sub_string, 9)) # error"
   ]
  },
  {
   "cell_type": "markdown",
   "metadata": {},
   "source": [
    "- isalnum(): Checks alphanumeric character"
   ]
  },
  {
   "cell_type": "code",
   "execution_count": null,
   "metadata": {},
   "outputs": [],
   "source": [
    "challenge = 'ThirtyDaysPython'\n",
    "print(challenge.isalnum()) # True\n",
    "\n",
    "challenge = '30DaysPython'\n",
    "print(challenge.isalnum()) # True\n",
    "\n",
    "challenge = 'thirty days of python'\n",
    "print(challenge.isalnum()) # False, space is not an alphanumeric character\n",
    "\n",
    "challenge = 'thirty days of python 2019'\n",
    "print(challenge.isalnum()) # False"
   ]
  },
  {
   "cell_type": "markdown",
   "metadata": {},
   "source": [
    "- isalpha(): Checks if all string elements are alphabet characters (a-z and A-Z)"
   ]
  },
  {
   "cell_type": "code",
   "execution_count": null,
   "metadata": {},
   "outputs": [],
   "source": [
    "challenge = 'thirty days of python'\n",
    "print(challenge.isalpha()) # False, space is once again excluded\n",
    "challenge = 'ThirtyDaysPython'\n",
    "print(challenge.isalpha()) # True\n",
    "num = '123'\n",
    "print(num.isalpha())      # False"
   ]
  },
  {
   "cell_type": "markdown",
   "metadata": {},
   "source": [
    "- isdecimal(): Checks if all characters in a string are decimal (0-9)"
   ]
  },
  {
   "cell_type": "code",
   "execution_count": null,
   "metadata": {},
   "outputs": [],
   "source": [
    "challenge = 'thirty days of python'\n",
    "print(challenge.isdecimal())  # False\n",
    "challenge = '123'\n",
    "print(challenge.isdecimal())  # True\n",
    "challenge = '\\u00B2'\n",
    "print(challenge.isdigit())   # False\n",
    "challenge = '12 3'\n",
    "print(challenge.isdecimal())  # False, space not allowed"
   ]
  },
  {
   "cell_type": "markdown",
   "metadata": {},
   "source": [
    "- isdigit(): Checks if all characters in a string are numbers (0-9 and some other unicode characters for numbers)"
   ]
  },
  {
   "cell_type": "code",
   "execution_count": null,
   "metadata": {},
   "outputs": [],
   "source": [
    "challenge = 'Thirty'\n",
    "print(challenge.isdigit()) # False\n",
    "challenge = '30'\n",
    "print(challenge.isdigit())   # True\n",
    "challenge = '\\u00B2'\n",
    "print(challenge.isdigit())   # True"
   ]
  },
  {
   "cell_type": "markdown",
   "metadata": {},
   "source": [
    "- isnumeric(): Checks if all characters in a string are numbers or number related (just like isdigit(), just accepts more symbols, like ½)"
   ]
  },
  {
   "cell_type": "code",
   "execution_count": null,
   "metadata": {},
   "outputs": [],
   "source": [
    "num = '10'\n",
    "print(num.isnumeric()) # True\n",
    "num = '\\u00BD' # ½\n",
    "print(num.isnumeric()) # True\n",
    "num = '10.5'\n",
    "print(num.isnumeric()) # False"
   ]
  },
  {
   "cell_type": "markdown",
   "metadata": {},
   "source": [
    "- isidentifier(): Checks for a valid identifier - it checks if a string is a valid variable name"
   ]
  },
  {
   "cell_type": "code",
   "execution_count": null,
   "metadata": {},
   "outputs": [],
   "source": [
    "challenge = '30DaysOfPython'\n",
    "print(challenge.isidentifier()) # False, because it starts with a number\n",
    "challenge = 'thirty_days_of_python'\n",
    "print(challenge.isidentifier()) # True"
   ]
  },
  {
   "cell_type": "markdown",
   "metadata": {},
   "source": [
    "- islower(): Checks if all alphabet characters in the string are lowercase"
   ]
  },
  {
   "cell_type": "code",
   "execution_count": null,
   "metadata": {},
   "outputs": [],
   "source": [
    "challenge = 'thirty days of python'\n",
    "print(challenge.islower()) # True\n",
    "challenge = 'Thirty days of python'\n",
    "print(challenge.islower()) # False"
   ]
  },
  {
   "cell_type": "markdown",
   "metadata": {},
   "source": [
    "- isupper(): Checks if all alphabet characters in the string are uppercase"
   ]
  },
  {
   "cell_type": "code",
   "execution_count": null,
   "metadata": {},
   "outputs": [],
   "source": [
    "challenge = 'thirty days of python'\n",
    "print(challenge.isupper()) #  False\n",
    "challenge = 'THIRTY DAYS OF PYTHON'\n",
    "print(challenge.isupper()) # True"
   ]
  },
  {
   "cell_type": "markdown",
   "metadata": {},
   "source": [
    "- join(): Returns a concatenated string"
   ]
  },
  {
   "cell_type": "code",
   "execution_count": null,
   "metadata": {},
   "outputs": [],
   "source": [
    "web_tech = ['HTML', 'CSS', 'JavaScript', 'React']\n",
    "result = ' '.join(web_tech)\n",
    "print(result) # 'HTML CSS JavaScript React'"
   ]
  },
  {
   "cell_type": "markdown",
   "metadata": {},
   "source": []
  },
  {
   "cell_type": "code",
   "execution_count": null,
   "metadata": {},
   "outputs": [],
   "source": [
    "web_tech = ['HTML', 'CSS', 'JavaScript', 'React']\n",
    "result = '# '.join(web_tech)\n",
    "print(result) # 'HTML# CSS# JavaScript# React'"
   ]
  },
  {
   "cell_type": "markdown",
   "metadata": {},
   "source": [
    "- strip(): Removes all given characters starting from the beginning and end of the string"
   ]
  },
  {
   "cell_type": "code",
   "execution_count": null,
   "metadata": {},
   "outputs": [],
   "source": [
    "challenge = 'thirty days of pythoonnn'\n",
    "print(challenge.strip('noth')) # 'irty days of py'"
   ]
  },
  {
   "cell_type": "markdown",
   "metadata": {},
   "source": [
    "- replace(): Replaces substring with a given string"
   ]
  },
  {
   "cell_type": "code",
   "execution_count": null,
   "metadata": {},
   "outputs": [],
   "source": [
    "challenge = 'thirty days of python'\n",
    "print(challenge.replace('python', 'coding')) # 'thirty days of coding'"
   ]
  },
  {
   "cell_type": "markdown",
   "metadata": {},
   "source": [
    "- split(): Splits the string, using given string or space as a separator"
   ]
  },
  {
   "cell_type": "code",
   "execution_count": null,
   "metadata": {},
   "outputs": [],
   "source": [
    "challenge = 'thirty days of python'\n",
    "print(challenge.split()) # ['thirty', 'days', 'of', 'python']\n",
    "challenge = 'thirty, days, of, python'\n",
    "print(challenge.split(', ')) # ['thirty', 'days', 'of', 'python']"
   ]
  },
  {
   "cell_type": "markdown",
   "metadata": {},
   "source": [
    "- title(): Returns a title cased string"
   ]
  },
  {
   "cell_type": "code",
   "execution_count": null,
   "metadata": {},
   "outputs": [],
   "source": [
    "challenge = 'thirty days of python'\n",
    "print(challenge.title()) # Thirty Days Of Python"
   ]
  },
  {
   "cell_type": "markdown",
   "metadata": {},
   "source": [
    "- swapcase(): Converts all uppercase characters to lowercase and all lowercase characters to uppercase characters"
   ]
  },
  {
   "cell_type": "code",
   "execution_count": null,
   "metadata": {},
   "outputs": [],
   "source": [
    "challenge = 'thirty days of python'\n",
    "print(challenge.swapcase())   # THIRTY DAYS OF PYTHON\n",
    "challenge = 'Thirty Days Of Python'\n",
    "print(challenge.swapcase())  # tHIRTY dAYS oF pYTHON"
   ]
  },
  {
   "cell_type": "markdown",
   "metadata": {},
   "source": [
    "- startswith(): Checks if String Starts with the Specified String"
   ]
  },
  {
   "cell_type": "code",
   "execution_count": null,
   "metadata": {},
   "outputs": [],
   "source": [
    "challenge = 'thirty days of python'\n",
    "print(challenge.startswith('thirty')) # True\n",
    "\n",
    "challenge = '30 days of python'\n",
    "print(challenge.startswith('thirty')) # False"
   ]
  },
  {
   "cell_type": "markdown",
   "metadata": {},
   "source": [
    "## 💻 Exercises - Strings\n",
    "\n",
    "1. Concatenate the string 'Thirty', 'Days', 'Of', 'Python' to a single string, 'Thirty Days Of Python'.\n",
    "2. Concatenate the string 'Coding', 'For' , 'All' to a single string, 'Coding For All'.\n",
    "3. Declare a variable named company and assign it to an initial value \"Coding For All\".\n",
    "4. Print the variable company using _print()_.\n",
    "5. Print the length of the company string using _len()_ method and _print()_.\n",
    "6. Change all the characters to uppercase letters using _upper()_ method.\n",
    "7. Change all the characters to lowercase letters using _lower()_ method.\n",
    "8. Use capitalize(), title(), swapcase() methods to format the value of the string _Coding For All_.\n",
    "9. Cut(slice) out the first word of _Coding For All_ string.\n",
    "10. Check if _Coding For All_ string contains a word Coding using the method index, find or other methods.\n",
    "11. Replace the word coding in the string 'Coding For All' to Python.\n",
    "12. Change Python for Everyone to Python for All using the replace method or other methods.\n",
    "13. Split the string 'Coding For All' using space as the separator (split()) .\n",
    "14. \"Facebook, Google, Microsoft, Apple, IBM, Oracle, Amazon\" split the string at the comma.\n",
    "15. What is the character at index 0 in the string _Coding For All_.\n",
    "16. What is the last index of the string _Coding For All_.\n",
    "17. What character is at index 10 in \"Coding For All\" string.\n",
    "18. Create an acronym or an abbreviation for the name 'Python For Everyone'.\n",
    "19. Create an acronym or an abbreviation for the name 'Coding For All'.\n",
    "20. Use index to determine the position of the first occurrence of C in Coding For All.\n",
    "21. Use index to determine the position of the first occurrence of F in Coding For All.\n",
    "22. Use rfind to determine the position of the last occurrence of l in Coding For All People.\n",
    "23. Use index or find to find the position of the first occurrence of the word 'because' in the following sentence: 'You cannot end a sentence with because because because is a conjunction'\n",
    "24. Use rindex to find the position of the last occurrence of the word because in the following sentence: 'You cannot end a sentence with because because because is a conjunction'\n",
    "25. Slice out the phrase 'because because because' in the following sentence: 'You cannot end a sentence with because because because is a conjunction'\n",
    "26. Find the position of the first occurrence of the word 'because' in the following sentence: 'You cannot end a sentence with because because because is a conjunction'\n",
    "27. Slice out the phrase 'because because because' in the following sentence: 'You cannot end a sentence with because because because is a conjunction'\n",
    "28. Does '\\'Coding For All' start with a substring _Coding_?\n",
    "29. Does 'Coding For All' end with a substring _coding_?\n",
    "30. '&nbsp;&nbsp; Coding For All &nbsp;&nbsp;&nbsp; &nbsp;' &nbsp;, remove the left and right trailing spaces in the given string.\n",
    "31. Which one of the following variables return True when we use the method isidentifier():\n",
    "    - 30DaysOfPython\n",
    "    - thirty_days_of_python\n",
    "32. The following list contains the names of some of python libraries: ['Django', 'Flask', 'Bottle', 'Pyramid', 'Falcon']. Join the list with a hash with space string.\n",
    "33. Use the new line escape sequence to separate the following sentences.\n",
    "    ```py\n",
    "    I am enjoying this challenge.\n",
    "    I just wonder what is next.\n",
    "    ```\n",
    "34. Use a tab escape sequence to write the following lines.\n",
    "    ```py\n",
    "    Name      Age     Country   City\n",
    "    Asabeneh  250     Finland   Helsinki\n",
    "    ```\n",
    "35. Use the string formatting method to display the following:\n",
    "\n",
    "```sh\n",
    "radius = 10\n",
    "area = 3.14 * radius ** 2\n",
    "The area of a circle with radius 10 is 314 meters square.\n",
    "```\n",
    "\n",
    "36. Make the following using string formatting methods:\n",
    "\n",
    "```sh\n",
    "8 + 6 = 14\n",
    "8 - 6 = 2\n",
    "8 * 6 = 48\n",
    "8 / 6 = 1.33\n",
    "8 % 6 = 2\n",
    "8 // 6 = 1\n",
    "8 ** 6 = 262144\n",
    "```"
   ]
  },
  {
   "cell_type": "code",
   "execution_count": null,
   "metadata": {},
   "outputs": [],
   "source": []
  }
 ],
 "metadata": {
  "kernelspec": {
   "display_name": "Python 3 (ipykernel)",
   "language": "python",
   "name": "python3"
  },
  "language_info": {
   "codemirror_mode": {
    "name": "ipython",
    "version": 3
   },
   "file_extension": ".py",
   "mimetype": "text/x-python",
   "name": "python",
   "nbconvert_exporter": "python",
   "pygments_lexer": "ipython3",
   "version": "3.8.10"
  }
 },
 "nbformat": 4,
 "nbformat_minor": 4
}
