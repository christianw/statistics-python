{
 "cells": [
  {
   "cell_type": "markdown",
   "metadata": {
    "id": "Pb_PBThH0Pri"
   },
   "source": [
    "# Classification using structured data"
   ]
  },
  {
   "cell_type": "markdown",
   "metadata": {
    "id": "4FENxfRi0Prr"
   },
   "source": [
    "## Example iris data"
   ]
  },
  {
   "cell_type": "markdown",
   "metadata": {
    "id": "xnGR6T1Y0Prq"
   },
   "source": [
    "### Vectorization"
   ]
  },
  {
   "cell_type": "markdown",
   "metadata": {
    "id": "B2bqNtJU0Prs"
   },
   "source": [
    "![image](https://upload.wikimedia.org/wikipedia/commons/thumb/5/56/Kosaciec_szczecinkowaty_Iris_setosa.jpg/220px-Kosaciec_szczecinkowaty_Iris_setosa.jpg) ![image](https://upload.wikimedia.org/wikipedia/commons/thumb/4/41/Iris_versicolor_3.jpg/220px-Iris_versicolor_3.jpg) ![image](https://upload.wikimedia.org/wikipedia/commons/thumb/9/9f/Iris_virginica.jpg/220px-Iris_virginica.jpg)"
   ]
  },
  {
   "cell_type": "code",
   "execution_count": null,
   "metadata": {
    "id": "vJasAly30Prt"
   },
   "outputs": [],
   "source": [
    "from sklearn import datasets\n",
    "iris = datasets.load_iris()"
   ]
  },
  {
   "cell_type": "code",
   "execution_count": null,
   "metadata": {
    "id": "FEyZhPgy0Prt"
   },
   "outputs": [],
   "source": [
    "iris"
   ]
  },
  {
   "cell_type": "markdown",
   "metadata": {
    "id": "CSHB673p0Prv"
   },
   "source": [
    "Convert to `DataFrame` with `pandas`"
   ]
  },
  {
   "cell_type": "code",
   "execution_count": null,
   "metadata": {
    "id": "emU_ft_c0Prv"
   },
   "outputs": [],
   "source": [
    "import pandas as pd\n",
    "idf = pd.DataFrame(iris[\"data\"], columns=[\"Sepal Length\", \"Sepal Width\", \"Petal Length\", \"Petal Width\"])\n",
    "idf[\"target\"] = iris[\"target\"]\n",
    "idf[\"name\"] = [iris[\"target_names\"][target] for target in iris[\"target\"]]\n",
    "idf"
   ]
  },
  {
   "cell_type": "markdown",
   "metadata": {
    "id": "WQRX8RUq0Prw"
   },
   "source": [
    "*Five Number Summaries*"
   ]
  },
  {
   "cell_type": "code",
   "execution_count": null,
   "metadata": {
    "id": "4poK7D6w0Prw"
   },
   "outputs": [],
   "source": [
    "idf.describe()"
   ]
  },
  {
   "cell_type": "markdown",
   "metadata": {
    "id": "oDNo5Ny90Prw"
   },
   "source": [
    "Plot as histogram"
   ]
  },
  {
   "cell_type": "code",
   "execution_count": null,
   "metadata": {
    "id": "QfrDV0pB0Prw"
   },
   "outputs": [],
   "source": [
    "idf[\"Petal Width\"].plot.hist()"
   ]
  },
  {
   "cell_type": "markdown",
   "metadata": {
    "id": "oFv3gJVl0Prx"
   },
   "source": [
    "Which features might be suitable for vectorization?"
   ]
  },
  {
   "cell_type": "code",
   "execution_count": null,
   "metadata": {
    "id": "YI2z9_xH0Prx"
   },
   "outputs": [],
   "source": [
    "idf.plot.scatter(x=\"Sepal Length\", y=\"Sepal Width\", c=\"target\", cmap=\"Set1\")"
   ]
  },
  {
   "cell_type": "markdown",
   "metadata": {
    "id": "1oD4ov-L0Prx"
   },
   "source": [
    "Better use all? Plot data in a way to find features which contribute most to distinguish the cases:"
   ]
  },
  {
   "cell_type": "code",
   "execution_count": null,
   "metadata": {
    "id": "yTRRSwdd0Prx"
   },
   "outputs": [],
   "source": [
    "import seaborn as sns\n",
    "sns.pairplot(idf.drop(columns=[\"target\"]), hue=\"name\")"
   ]
  },
  {
   "cell_type": "markdown",
   "metadata": {
    "id": "mub9qF0q0Pr4"
   },
   "source": [
    "### Iris-Klassifikation"
   ]
  },
  {
   "cell_type": "code",
   "execution_count": null,
   "metadata": {
    "id": "pWBBQMEV0Pr7"
   },
   "outputs": [],
   "source": [
    "from sklearn.linear_model import SGDClassifier\n",
    "svm = SGDClassifier(loss='hinge', max_iter=1000, tol=1e-3, random_state=42)\n",
    "svm.fit(iris['data'], iris['target'])"
   ]
  },
  {
   "cell_type": "code",
   "execution_count": null,
   "metadata": {
    "id": "5Y8mBude0Pr8"
   },
   "outputs": [],
   "source": [
    "svm.predict(iris['data'])"
   ]
  },
  {
   "cell_type": "code",
   "execution_count": null,
   "metadata": {
    "id": "oJYlHG3g0Pr8"
   },
   "outputs": [],
   "source": [
    "svm.predict(iris['data']) == iris['target']"
   ]
  },
  {
   "cell_type": "markdown",
   "metadata": {
    "id": "6j1Fn69P0Pr8"
   },
   "source": [
    "Looks good, but is this really abstraction?"
   ]
  },
  {
   "cell_type": "markdown",
   "metadata": {
    "id": "_4c62kIW0Pr8"
   },
   "source": [
    "### Training test split"
   ]
  },
  {
   "cell_type": "code",
   "execution_count": null,
   "metadata": {
    "id": "-4Lh17V50Pr9"
   },
   "outputs": [],
   "source": [
    "from sklearn.model_selection import train_test_split\n",
    "X_train, X_test, y_train, y_test = train_test_split(iris['data'], iris['target'], test_size = 0.25, random_state = 42)"
   ]
  },
  {
   "cell_type": "code",
   "execution_count": null,
   "metadata": {
    "id": "YGmeDGsQ0Pr9"
   },
   "outputs": [],
   "source": [
    "svm = SGDClassifier(loss='hinge', max_iter=1000, tol=1e-3, random_state=42)\n",
    "svm.fit(X_train, y_train)"
   ]
  },
  {
   "cell_type": "code",
   "execution_count": null,
   "metadata": {
    "id": "52BxFyc_0Pr-"
   },
   "outputs": [],
   "source": [
    "svm.predict(X_test) == y_test"
   ]
  },
  {
   "cell_type": "code",
   "execution_count": null,
   "metadata": {
    "id": "obtj87Hx0Pr-"
   },
   "outputs": [],
   "source": [
    "from sklearn.metrics import confusion_matrix\n",
    "confusion_matrix(y_test, svm.predict(X_test))"
   ]
  },
  {
   "cell_type": "code",
   "execution_count": null,
   "metadata": {
    "id": "EWUhzgcL0Pr_"
   },
   "outputs": [],
   "source": [
    "from sklearn.metrics import classification_report\n",
    "print(classification_report(y_test, svm.predict(X_test)))"
   ]
  }
 ],
 "metadata": {
  "colab": {
   "name": "ML Python.ipynb",
   "provenance": []
  },
  "kernelspec": {
   "display_name": "Python 3 (ipykernel)",
   "language": "python",
   "name": "python3"
  },
  "language_info": {
   "codemirror_mode": {
    "name": "ipython",
    "version": 3
   },
   "file_extension": ".py",
   "mimetype": "text/x-python",
   "name": "python",
   "nbconvert_exporter": "python",
   "pygments_lexer": "ipython3",
   "version": "3.8.10"
  },
  "varInspector": {
   "cols": {
    "lenName": 16,
    "lenType": 16,
    "lenVar": 40
   },
   "kernels_config": {
    "python": {
     "delete_cmd_postfix": "",
     "delete_cmd_prefix": "del ",
     "library": "var_list.py",
     "varRefreshCmd": "print(var_dic_list())"
    },
    "r": {
     "delete_cmd_postfix": ") ",
     "delete_cmd_prefix": "rm(",
     "library": "var_list.r",
     "varRefreshCmd": "cat(var_dic_list()) "
    }
   },
   "types_to_exclude": [
    "module",
    "function",
    "builtin_function_or_method",
    "instance",
    "_Feature"
   ],
   "window_display": false
  }
 },
 "nbformat": 4,
 "nbformat_minor": 4
}
