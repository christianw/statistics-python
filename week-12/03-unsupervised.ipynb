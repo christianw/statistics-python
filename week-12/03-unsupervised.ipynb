{
 "cells": [
  {
   "cell_type": "markdown",
   "metadata": {
    "id": "fLNMQgb20PsI"
   },
   "source": [
    "# Unsupervised learning"
   ]
  },
  {
   "cell_type": "markdown",
   "metadata": {
    "id": "iMtK448D0PsJ"
   },
   "source": [
    "### Iris clustering"
   ]
  },
  {
   "cell_type": "code",
   "execution_count": null,
   "metadata": {
    "id": "vJasAly30Prt"
   },
   "outputs": [],
   "source": [
    "from sklearn import datasets\n",
    "iris = datasets.load_iris()"
   ]
  },
  {
   "cell_type": "code",
   "execution_count": null,
   "metadata": {
    "id": "vJasAly30Prt"
   },
   "outputs": [],
   "source": [
    "import pandas as pd\n",
    "idf = pd.DataFrame(iris[\"data\"], columns=[\"Sepal Length\", \"Sepal Width\", \"Petal Length\", \"Petal Width\"])\n",
    "idf[\"target\"] = iris[\"target\"]\n",
    "idf[\"name\"] = [iris[\"target_names\"][target] for target in iris[\"target\"]]\n",
    "idf"
   ]
  },
  {
   "cell_type": "code",
   "execution_count": null,
   "metadata": {
    "id": "Mfqo5DD10PsJ"
   },
   "outputs": [],
   "source": [
    "from sklearn.cluster import KMeans\n",
    "km5 = KMeans(n_clusters=5)\n",
    "km5.fit(iris['data'])"
   ]
  },
  {
   "cell_type": "code",
   "execution_count": null,
   "metadata": {
    "id": "9_2FLlOc0PsJ"
   },
   "outputs": [],
   "source": [
    "km5.labels_"
   ]
  },
  {
   "cell_type": "code",
   "execution_count": null,
   "metadata": {
    "id": "jCPN3Pd60PsK"
   },
   "outputs": [],
   "source": [
    "iris['target']"
   ]
  },
  {
   "cell_type": "markdown",
   "metadata": {
    "id": "SWSfYFCB0PsK"
   },
   "source": [
    "Numbers of clusters are arbitrary"
   ]
  },
  {
   "cell_type": "code",
   "execution_count": null,
   "metadata": {
    "id": "MPQFeaZt0PsK"
   },
   "outputs": [],
   "source": [
    "import seaborn as sns\n",
    "import matplotlib.pyplot as plt\n",
    "plt.figure(figsize=(16,9))\n",
    "sns.scatterplot(x=idf[\"Sepal Length\"], y=idf[\"Petal Length\"], hue=idf[\"name\"], style=km5.labels_, \n",
    "                s=300)"
   ]
  },
  {
   "cell_type": "markdown",
   "metadata": {
    "id": "sdjcoKgm0PsK"
   },
   "source": [
    "Try it again with the correct number of clusters!"
   ]
  },
  {
   "cell_type": "code",
   "execution_count": null,
   "metadata": {
    "id": "JHq7dlFF0PsK",
    "scrolled": true
   },
   "outputs": [],
   "source": [
    "km3 = KMeans(n_clusters=3)\n",
    "km3.fit(iris['data'])\n",
    "km3.labels_"
   ]
  },
  {
   "cell_type": "code",
   "execution_count": null,
   "metadata": {
    "id": "IC3tXnHO0PsL"
   },
   "outputs": [],
   "source": [
    "plt.figure(figsize=(16,9))\n",
    "sns.scatterplot(x=idf[\"Sepal Length\"], y=idf[\"Petal Length\"], hue=km3.labels_, style=idf[\"name\"], \n",
    "                s=300)"
   ]
  },
  {
   "cell_type": "markdown",
   "metadata": {
    "id": "SpXdUbrH0PsL"
   },
   "source": [
    "Cluster methods like `MeanShift` determine the number of clusters:"
   ]
  },
  {
   "cell_type": "code",
   "execution_count": null,
   "metadata": {
    "id": "goL6CAIs0PsL"
   },
   "outputs": [],
   "source": [
    "from sklearn.cluster import MeanShift\n",
    "ms = MeanShift()\n",
    "ms.fit(iris['data'])"
   ]
  },
  {
   "cell_type": "code",
   "execution_count": null,
   "metadata": {
    "id": "4uEWCvxV0PsL"
   },
   "outputs": [],
   "source": [
    "plt.figure(figsize=(16,9))\n",
    "sns.scatterplot(x=idf[\"Sepal Length\"], y=idf[\"Petal Length\"], hue=ms.labels_, style=idf[\"name\"], \n",
    "                s=300)"
   ]
  },
  {
   "cell_type": "code",
   "execution_count": null,
   "metadata": {
    "id": "yhKRS3Do0PsM"
   },
   "outputs": [],
   "source": [
    "from sklearn.metrics import silhouette_score\n",
    "silhouette_score(iris['data'], km3.labels_)"
   ]
  },
  {
   "cell_type": "code",
   "execution_count": null,
   "metadata": {
    "id": "EFxKg-n20PsM"
   },
   "outputs": [],
   "source": [
    "silhouette_score(iris['data'], km5.labels_)"
   ]
  },
  {
   "cell_type": "code",
   "execution_count": null,
   "metadata": {
    "id": "4DKxmtlj0PsM"
   },
   "outputs": [],
   "source": [
    "silhouette_score(iris['data'], ms.labels_)"
   ]
  }
 ],
 "metadata": {
  "colab": {
   "name": "ML Python.ipynb",
   "provenance": []
  },
  "kernelspec": {
   "display_name": "Python 3 (ipykernel)",
   "language": "python",
   "name": "python3"
  },
  "language_info": {
   "codemirror_mode": {
    "name": "ipython",
    "version": 3
   },
   "file_extension": ".py",
   "mimetype": "text/x-python",
   "name": "python",
   "nbconvert_exporter": "python",
   "pygments_lexer": "ipython3",
   "version": "3.8.10"
  },
  "varInspector": {
   "cols": {
    "lenName": 16,
    "lenType": 16,
    "lenVar": 40
   },
   "kernels_config": {
    "python": {
     "delete_cmd_postfix": "",
     "delete_cmd_prefix": "del ",
     "library": "var_list.py",
     "varRefreshCmd": "print(var_dic_list())"
    },
    "r": {
     "delete_cmd_postfix": ") ",
     "delete_cmd_prefix": "rm(",
     "library": "var_list.r",
     "varRefreshCmd": "cat(var_dic_list()) "
    }
   },
   "types_to_exclude": [
    "module",
    "function",
    "builtin_function_or_method",
    "instance",
    "_Feature"
   ],
   "window_display": false
  }
 },
 "nbformat": 4,
 "nbformat_minor": 4
}
