{
 "cells": [
  {
   "cell_type": "markdown",
   "id": "4634b809",
   "metadata": {},
   "source": [
    "# Reinforcement learning"
   ]
  },
  {
   "cell_type": "markdown",
   "id": "2a40dbc1-7713-4cba-9c00-c58d75892c1a",
   "metadata": {},
   "source": [
    "Suppose you are in Las Vegas and have 1,000$ to play *bandits* (slot machines).\n",
    "\n",
    "There are ten bandits which have different chances of winning.\n",
    "\n",
    "What would be suitable strategies to maximize your profit?"
   ]
  },
  {
   "cell_type": "markdown",
   "id": "888f7abe",
   "metadata": {},
   "source": [
    "## Solution via *exploration*"
   ]
  },
  {
   "cell_type": "markdown",
   "id": "2228f95f",
   "metadata": {},
   "source": [
    "Implement a single bandit, bandits have different chances of winning (can you guess how it works?)."
   ]
  },
  {
   "cell_type": "code",
   "execution_count": null,
   "id": "8ba5fc6a",
   "metadata": {},
   "outputs": [],
   "source": [
    "import random\n",
    "def bandit(i):\n",
    "    threshold = (i*2+1)/20\n",
    "    if random.random() < threshold:\n",
    "        return 2\n",
    "    return 0"
   ]
  },
  {
   "cell_type": "markdown",
   "id": "a9694caa",
   "metadata": {},
   "source": [
    "`bandit()` simulates the slot machines with numbers `0-9`. Their chance of winning is `5%`, `15%`, ..., `95%`. On average, it is *fair*.\n",
    "\n",
    "Start the experiment and play each machine 100 times:"
   ]
  },
  {
   "cell_type": "code",
   "execution_count": null,
   "id": "826b4921",
   "metadata": {},
   "outputs": [],
   "source": [
    "import numpy as np\n",
    "\n",
    "random.seed(42)\n",
    "money = np.array([0]*10)\n",
    "for b in range(10):\n",
    "    for d in range(100):\n",
    "        money[b] += bandit(b)"
   ]
  },
  {
   "cell_type": "code",
   "execution_count": null,
   "id": "d580d7a7",
   "metadata": {},
   "outputs": [],
   "source": [
    "sum(money)"
   ]
  },
  {
   "cell_type": "code",
   "execution_count": null,
   "id": "cfdcecf5",
   "metadata": {},
   "outputs": [],
   "source": [
    "import pandas as pd\n",
    "pd.DataFrame(money).plot.bar()"
   ]
  },
  {
   "cell_type": "markdown",
   "id": "dbe46c33",
   "metadata": {},
   "source": [
    "## Solution by exploitation"
   ]
  },
  {
   "cell_type": "markdown",
   "id": "0f257cad",
   "metadata": {},
   "source": [
    "Remember how much money you get from each machine:"
   ]
  },
  {
   "cell_type": "code",
   "execution_count": null,
   "id": "d53759b6",
   "metadata": {},
   "outputs": [],
   "source": [
    "random.seed(42)\n",
    "money = np.array([0]*10)\n",
    "coins = np.array([0]*10)\n",
    "for b in range(10):\n",
    "    for d in range(10):\n",
    "        money[b] += bandit(b)\n",
    "        coins[b] += 1"
   ]
  },
  {
   "cell_type": "markdown",
   "id": "fdcfa959",
   "metadata": {},
   "source": [
    "Calculate the expectation value for each machine:"
   ]
  },
  {
   "cell_type": "code",
   "execution_count": null,
   "id": "615f4359",
   "metadata": {},
   "outputs": [],
   "source": [
    "money/coins"
   ]
  },
  {
   "cell_type": "markdown",
   "id": "25e66ed4",
   "metadata": {},
   "source": [
    "Prefer those machines which yielded higher returns:"
   ]
  },
  {
   "cell_type": "code",
   "execution_count": null,
   "id": "c983ef9b",
   "metadata": {},
   "outputs": [],
   "source": [
    "c = 1\n",
    "for b in (money/coins).argsort():\n",
    "    for d in range(c):\n",
    "        money[b] += bandit(b)\n",
    "        coins[b] += 1\n",
    "    c += 2"
   ]
  },
  {
   "cell_type": "markdown",
   "id": "cd8a4aec-62f3-4d54-ba40-3ec351ea5632",
   "metadata": {},
   "source": [
    "Check the correct number of coins"
   ]
  },
  {
   "cell_type": "code",
   "execution_count": null,
   "id": "d595c616",
   "metadata": {},
   "outputs": [],
   "source": [
    "sum(coins)"
   ]
  },
  {
   "cell_type": "markdown",
   "id": "62696898",
   "metadata": {},
   "source": [
    "Calculate expectation values:"
   ]
  },
  {
   "cell_type": "code",
   "execution_count": null,
   "id": "bed58ce7",
   "metadata": {},
   "outputs": [],
   "source": [
    "money/coins"
   ]
  },
  {
   "cell_type": "markdown",
   "id": "5bbd9832-9cc3-4640-be3e-0857dbb443a5",
   "metadata": {},
   "source": [
    "Play the rest (800$):"
   ]
  },
  {
   "cell_type": "code",
   "execution_count": null,
   "id": "e0bc697e",
   "metadata": {},
   "outputs": [],
   "source": [
    "for r in range(8):\n",
    "    c = 1\n",
    "    for b in (money/coins).argsort():\n",
    "        for d in range(c):\n",
    "            money[b] += bandit(b)\n",
    "            coins[b] += 1\n",
    "        c += 2"
   ]
  },
  {
   "cell_type": "markdown",
   "id": "92e208d1",
   "metadata": {},
   "source": [
    "All money is gone now:"
   ]
  },
  {
   "cell_type": "code",
   "execution_count": null,
   "id": "a08c6858",
   "metadata": {},
   "outputs": [],
   "source": [
    "sum(coins)"
   ]
  },
  {
   "cell_type": "markdown",
   "id": "765749b8",
   "metadata": {},
   "source": [
    "Did you make more profit?"
   ]
  },
  {
   "cell_type": "code",
   "execution_count": null,
   "id": "05151faa",
   "metadata": {},
   "outputs": [],
   "source": [
    "sum(money)"
   ]
  },
  {
   "cell_type": "markdown",
   "id": "b789dc47",
   "metadata": {},
   "source": [
    "Works like expected!"
   ]
  },
  {
   "cell_type": "code",
   "execution_count": null,
   "id": "96838ef2",
   "metadata": {},
   "outputs": [],
   "source": [
    "money/coins"
   ]
  },
  {
   "cell_type": "markdown",
   "id": "5f724180",
   "metadata": {},
   "source": [
    "Exploration yields better estimates for the chance of winning in each individual machine, but exploitation gives higher profit."
   ]
  },
  {
   "cell_type": "code",
   "execution_count": null,
   "id": "1e1b387d",
   "metadata": {},
   "outputs": [],
   "source": [
    "coins"
   ]
  }
 ],
 "metadata": {
  "kernelspec": {
   "display_name": "Python 3 (ipykernel)",
   "language": "python",
   "name": "python3"
  },
  "language_info": {
   "codemirror_mode": {
    "name": "ipython",
    "version": 3
   },
   "file_extension": ".py",
   "mimetype": "text/x-python",
   "name": "python",
   "nbconvert_exporter": "python",
   "pygments_lexer": "ipython3",
   "version": "3.8.10"
  }
 },
 "nbformat": 4,
 "nbformat_minor": 5
}
