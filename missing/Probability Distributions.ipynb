{
 "cells": [
  {
   "cell_type": "code",
   "execution_count": 1,
   "id": "189b9f0e-0647-4621-bca2-e69d7e5963a2",
   "metadata": {},
   "outputs": [],
   "source": [
    "import random"
   ]
  },
  {
   "cell_type": "code",
   "execution_count": 2,
   "id": "3e0385a2-dd51-42c0-a9cc-8509d97a0344",
   "metadata": {},
   "outputs": [
    {
     "data": {
      "text/plain": [
       "0.4444279931310746"
      ]
     },
     "execution_count": 2,
     "metadata": {},
     "output_type": "execute_result"
    }
   ],
   "source": [
    "random.random()"
   ]
  },
  {
   "cell_type": "code",
   "execution_count": 3,
   "id": "2f244679-165a-4a21-9098-5552219999be",
   "metadata": {},
   "outputs": [],
   "source": [
    "random.seed(0)"
   ]
  },
  {
   "cell_type": "code",
   "execution_count": 4,
   "id": "7d157591-2fca-49f3-956f-2e2f9f903582",
   "metadata": {},
   "outputs": [
    {
     "data": {
      "text/plain": [
       "0.8444218515250481"
      ]
     },
     "execution_count": 4,
     "metadata": {},
     "output_type": "execute_result"
    }
   ],
   "source": [
    "random.random()"
   ]
  },
  {
   "cell_type": "markdown",
   "id": "b427d396-449c-4a10-a1e0-181472a2a672",
   "metadata": {},
   "source": [
    "# Perform coin toss 100 times and count the number of heads"
   ]
  },
  {
   "cell_type": "code",
   "execution_count": 9,
   "id": "e0e77232-bbd5-4883-9f1a-316e374ac498",
   "metadata": {},
   "outputs": [
    {
     "name": "stdout",
     "output_type": "stream",
     "text": [
      "37\n"
     ]
    }
   ],
   "source": [
    "count = 0\n",
    "random.seed(0)\n",
    "for i in range(100):\n",
    "    if random.random() < 0.5:\n",
    "        count = count + 1\n",
    "\n",
    "print(count)"
   ]
  },
  {
   "cell_type": "markdown",
   "id": "bb6af63d-9f92-4cd4-82d3-95b2c598183d",
   "metadata": {},
   "source": [
    "# Perform this above experiment 100 times (tossing the coin 10,000 times!)"
   ]
  },
  {
   "cell_type": "code",
   "execution_count": 10,
   "id": "ff19181e-0030-45a9-9d55-47c2100cab5f",
   "metadata": {},
   "outputs": [
    {
     "name": "stdout",
     "output_type": "stream",
     "text": [
      "37\n",
      "56\n",
      "52\n",
      "48\n",
      "48\n",
      "59\n",
      "56\n",
      "55\n",
      "48\n",
      "49\n",
      "41\n",
      "53\n",
      "54\n",
      "40\n",
      "52\n",
      "54\n",
      "46\n",
      "48\n",
      "52\n",
      "51\n",
      "43\n",
      "53\n",
      "41\n",
      "53\n",
      "48\n",
      "50\n",
      "50\n",
      "52\n",
      "45\n",
      "49\n",
      "55\n",
      "42\n",
      "53\n",
      "44\n",
      "44\n",
      "49\n",
      "51\n",
      "37\n",
      "55\n",
      "53\n",
      "51\n",
      "55\n",
      "49\n",
      "48\n",
      "53\n",
      "51\n",
      "52\n",
      "50\n",
      "42\n",
      "51\n",
      "47\n",
      "47\n",
      "45\n",
      "55\n",
      "49\n",
      "52\n",
      "43\n",
      "45\n",
      "55\n",
      "61\n",
      "54\n",
      "45\n",
      "52\n",
      "55\n",
      "46\n",
      "44\n",
      "46\n",
      "44\n",
      "49\n",
      "48\n",
      "51\n",
      "57\n",
      "47\n",
      "52\n",
      "46\n",
      "43\n",
      "58\n",
      "55\n",
      "49\n",
      "53\n",
      "47\n",
      "51\n",
      "49\n",
      "48\n",
      "42\n",
      "45\n",
      "57\n",
      "48\n",
      "52\n",
      "42\n",
      "58\n",
      "54\n",
      "49\n",
      "57\n",
      "58\n",
      "50\n",
      "52\n",
      "53\n",
      "57\n",
      "50\n"
     ]
    }
   ],
   "source": [
    "random.seed(0)\n",
    "for e in range(100):\n",
    "    count = 0\n",
    "    for i in range(100):\n",
    "        if random.random() < 0.5:\n",
    "            count = count + 1\n",
    "    print(count)"
   ]
  },
  {
   "cell_type": "code",
   "execution_count": 11,
   "id": "b4f382a1-bb1f-42f2-b06d-a907fa72cc7d",
   "metadata": {},
   "outputs": [],
   "source": [
    "results = []\n",
    "random.seed(0)\n",
    "for e in range(100):\n",
    "    count = 0\n",
    "    for i in range(100):\n",
    "        if random.random() < 0.5:\n",
    "            count = count + 1\n",
    "    results.append(count)"
   ]
  },
  {
   "cell_type": "code",
   "execution_count": 13,
   "id": "9cf90d2f-7558-4c21-a3c7-150425c1b236",
   "metadata": {},
   "outputs": [
    {
     "data": {
      "text/plain": [
       "[37,\n",
       " 56,\n",
       " 52,\n",
       " 48,\n",
       " 48,\n",
       " 59,\n",
       " 56,\n",
       " 55,\n",
       " 48,\n",
       " 49,\n",
       " 41,\n",
       " 53,\n",
       " 54,\n",
       " 40,\n",
       " 52,\n",
       " 54,\n",
       " 46,\n",
       " 48,\n",
       " 52,\n",
       " 51,\n",
       " 43,\n",
       " 53,\n",
       " 41,\n",
       " 53,\n",
       " 48,\n",
       " 50,\n",
       " 50,\n",
       " 52,\n",
       " 45,\n",
       " 49,\n",
       " 55,\n",
       " 42,\n",
       " 53,\n",
       " 44,\n",
       " 44,\n",
       " 49,\n",
       " 51,\n",
       " 37,\n",
       " 55,\n",
       " 53,\n",
       " 51,\n",
       " 55,\n",
       " 49,\n",
       " 48,\n",
       " 53,\n",
       " 51,\n",
       " 52,\n",
       " 50,\n",
       " 42,\n",
       " 51,\n",
       " 47,\n",
       " 47,\n",
       " 45,\n",
       " 55,\n",
       " 49,\n",
       " 52,\n",
       " 43,\n",
       " 45,\n",
       " 55,\n",
       " 61,\n",
       " 54,\n",
       " 45,\n",
       " 52,\n",
       " 55,\n",
       " 46,\n",
       " 44,\n",
       " 46,\n",
       " 44,\n",
       " 49,\n",
       " 48,\n",
       " 51,\n",
       " 57,\n",
       " 47,\n",
       " 52,\n",
       " 46,\n",
       " 43,\n",
       " 58,\n",
       " 55,\n",
       " 49,\n",
       " 53,\n",
       " 47,\n",
       " 51,\n",
       " 49,\n",
       " 48,\n",
       " 42,\n",
       " 45,\n",
       " 57,\n",
       " 48,\n",
       " 52,\n",
       " 42,\n",
       " 58,\n",
       " 54,\n",
       " 49,\n",
       " 57,\n",
       " 58,\n",
       " 50,\n",
       " 52,\n",
       " 53,\n",
       " 57,\n",
       " 50]"
      ]
     },
     "execution_count": 13,
     "metadata": {},
     "output_type": "execute_result"
    }
   ],
   "source": [
    "results"
   ]
  },
  {
   "cell_type": "code",
   "execution_count": 14,
   "id": "8b5bb060-adbd-493e-92b2-052969324086",
   "metadata": {},
   "outputs": [],
   "source": [
    "import pandas as pd\n",
    "df = pd.DataFrame()\n",
    "df[\"head\"] = results"
   ]
  },
  {
   "cell_type": "code",
   "execution_count": 15,
   "id": "5e588294-24a6-4c9b-b4fb-d1afe91e1ca0",
   "metadata": {},
   "outputs": [
    {
     "data": {
      "text/html": [
       "<div>\n",
       "<style scoped>\n",
       "    .dataframe tbody tr th:only-of-type {\n",
       "        vertical-align: middle;\n",
       "    }\n",
       "\n",
       "    .dataframe tbody tr th {\n",
       "        vertical-align: top;\n",
       "    }\n",
       "\n",
       "    .dataframe thead th {\n",
       "        text-align: right;\n",
       "    }\n",
       "</style>\n",
       "<table border=\"1\" class=\"dataframe\">\n",
       "  <thead>\n",
       "    <tr style=\"text-align: right;\">\n",
       "      <th></th>\n",
       "      <th>head</th>\n",
       "    </tr>\n",
       "  </thead>\n",
       "  <tbody>\n",
       "    <tr>\n",
       "      <th>0</th>\n",
       "      <td>37</td>\n",
       "    </tr>\n",
       "    <tr>\n",
       "      <th>1</th>\n",
       "      <td>56</td>\n",
       "    </tr>\n",
       "    <tr>\n",
       "      <th>2</th>\n",
       "      <td>52</td>\n",
       "    </tr>\n",
       "    <tr>\n",
       "      <th>3</th>\n",
       "      <td>48</td>\n",
       "    </tr>\n",
       "    <tr>\n",
       "      <th>4</th>\n",
       "      <td>48</td>\n",
       "    </tr>\n",
       "    <tr>\n",
       "      <th>...</th>\n",
       "      <td>...</td>\n",
       "    </tr>\n",
       "    <tr>\n",
       "      <th>95</th>\n",
       "      <td>50</td>\n",
       "    </tr>\n",
       "    <tr>\n",
       "      <th>96</th>\n",
       "      <td>52</td>\n",
       "    </tr>\n",
       "    <tr>\n",
       "      <th>97</th>\n",
       "      <td>53</td>\n",
       "    </tr>\n",
       "    <tr>\n",
       "      <th>98</th>\n",
       "      <td>57</td>\n",
       "    </tr>\n",
       "    <tr>\n",
       "      <th>99</th>\n",
       "      <td>50</td>\n",
       "    </tr>\n",
       "  </tbody>\n",
       "</table>\n",
       "<p>100 rows × 1 columns</p>\n",
       "</div>"
      ],
      "text/plain": [
       "    head\n",
       "0     37\n",
       "1     56\n",
       "2     52\n",
       "3     48\n",
       "4     48\n",
       "..   ...\n",
       "95    50\n",
       "96    52\n",
       "97    53\n",
       "98    57\n",
       "99    50\n",
       "\n",
       "[100 rows x 1 columns]"
      ]
     },
     "execution_count": 15,
     "metadata": {},
     "output_type": "execute_result"
    }
   ],
   "source": [
    "df"
   ]
  },
  {
   "cell_type": "code",
   "execution_count": 16,
   "id": "7ca9dd97-74d1-4201-b059-d70e2b4b2759",
   "metadata": {},
   "outputs": [
    {
     "data": {
      "text/plain": [
       "<Axes: >"
      ]
     },
     "execution_count": 16,
     "metadata": {},
     "output_type": "execute_result"
    },
    {
     "data": {
      "image/png": "[encoded data removed]",
      "text/plain": [
       "<Figure size 640x480 with 1 Axes>"
      ]
     },
     "metadata": {},
     "output_type": "display_data"
    }
   ],
   "source": [
    "df[\"head\"].plot.bar()"
   ]
  },
  {
   "cell_type": "code",
   "execution_count": 18,
   "id": "86f025a5-3f45-407a-a869-8276636a9bd0",
   "metadata": {},
   "outputs": [
    {
     "data": {
      "text/plain": [
       "<Axes: ylabel='Frequency'>"
      ]
     },
     "execution_count": 18,
     "metadata": {},
     "output_type": "execute_result"
    },
    {
     "data": {
      "image/png": "[encoded data removed]",
      "text/plain": [
       "<Figure size 640x480 with 1 Axes>"
      ]
     },
     "metadata": {},
     "output_type": "display_data"
    }
   ],
   "source": [
    "df[\"head\"].plot.hist(bins=20)"
   ]
  },
  {
   "cell_type": "code",
   "execution_count": 23,
   "id": "2d498cf8-a2e6-4fa4-a94f-846fcdb6a714",
   "metadata": {},
   "outputs": [],
   "source": [
    "results = []\n",
    "random.seed(0)\n",
    "for e in range(1000000):\n",
    "    count = 0\n",
    "    for i in range(100):\n",
    "        if random.random() <= 0.5:\n",
    "            count = count + 1\n",
    "    results.append(count)"
   ]
  },
  {
   "cell_type": "code",
   "execution_count": 25,
   "id": "dbfb5521-580f-4e23-bd9f-3ffa143a68f6",
   "metadata": {},
   "outputs": [
    {
     "data": {
      "text/plain": [
       "<Axes: ylabel='Frequency'>"
      ]
     },
     "execution_count": 25,
     "metadata": {},
     "output_type": "execute_result"
    },
    {
     "data": {
      "image/png": "[encoded data removed]",
      "text/plain": [
       "<Figure size 640x480 with 1 Axes>"
      ]
     },
     "metadata": {},
     "output_type": "display_data"
    }
   ],
   "source": [
    "df = pd.DataFrame()\n",
    "df[\"head\"] = results\n",
    "df[\"head\"].plot.hist(bins=101)"
   ]
  },
  {
   "cell_type": "code",
   "execution_count": 26,
   "id": "0af41adc-c443-4aec-9dc8-ad2cde85e614",
   "metadata": {},
   "outputs": [
    {
     "data": {
      "text/html": [
       "<div>\n",
       "<style scoped>\n",
       "    .dataframe tbody tr th:only-of-type {\n",
       "        vertical-align: middle;\n",
       "    }\n",
       "\n",
       "    .dataframe tbody tr th {\n",
       "        vertical-align: top;\n",
       "    }\n",
       "\n",
       "    .dataframe thead th {\n",
       "        text-align: right;\n",
       "    }\n",
       "</style>\n",
       "<table border=\"1\" class=\"dataframe\">\n",
       "  <thead>\n",
       "    <tr style=\"text-align: right;\">\n",
       "      <th></th>\n",
       "      <th>head</th>\n",
       "    </tr>\n",
       "  </thead>\n",
       "  <tbody>\n",
       "    <tr>\n",
       "      <th>count</th>\n",
       "      <td>1000000.000000</td>\n",
       "    </tr>\n",
       "    <tr>\n",
       "      <th>mean</th>\n",
       "      <td>49.998927</td>\n",
       "    </tr>\n",
       "    <tr>\n",
       "      <th>std</th>\n",
       "      <td>5.000866</td>\n",
       "    </tr>\n",
       "    <tr>\n",
       "      <th>min</th>\n",
       "      <td>28.000000</td>\n",
       "    </tr>\n",
       "    <tr>\n",
       "      <th>25%</th>\n",
       "      <td>47.000000</td>\n",
       "    </tr>\n",
       "    <tr>\n",
       "      <th>50%</th>\n",
       "      <td>50.000000</td>\n",
       "    </tr>\n",
       "    <tr>\n",
       "      <th>75%</th>\n",
       "      <td>53.000000</td>\n",
       "    </tr>\n",
       "    <tr>\n",
       "      <th>max</th>\n",
       "      <td>73.000000</td>\n",
       "    </tr>\n",
       "  </tbody>\n",
       "</table>\n",
       "</div>"
      ],
      "text/plain": [
       "                 head\n",
       "count  1000000.000000\n",
       "mean        49.998927\n",
       "std          5.000866\n",
       "min         28.000000\n",
       "25%         47.000000\n",
       "50%         50.000000\n",
       "75%         53.000000\n",
       "max         73.000000"
      ]
     },
     "execution_count": 26,
     "metadata": {},
     "output_type": "execute_result"
    }
   ],
   "source": [
    "df.describe()"
   ]
  },
  {
   "cell_type": "markdown",
   "id": "37f1a258-a7ca-4c87-b481-361c3639d67a",
   "metadata": {},
   "source": [
    "# Now use `scipy`"
   ]
  },
  {
   "cell_type": "code",
   "execution_count": 27,
   "id": "9b5cbd6b-d49b-4e88-9958-9d80ca227e69",
   "metadata": {},
   "outputs": [],
   "source": [
    "import numpy as np\n",
    "from scipy.stats import binom"
   ]
  },
  {
   "cell_type": "code",
   "execution_count": 28,
   "id": "a56042e2-7423-4423-b372-2c0ca8181170",
   "metadata": {},
   "outputs": [
    {
     "data": {
      "text/plain": [
       "(50.0, 25.0, 0.0, -0.02)"
      ]
     },
     "execution_count": 28,
     "metadata": {},
     "output_type": "execute_result"
    }
   ],
   "source": [
    "n, p = 100, 0.5\n",
    "mean, var, skew, kurt = binom.stats(n, p, moments='mvsk')\n",
    "mean, var, skew, kurt"
   ]
  },
  {
   "cell_type": "code",
   "execution_count": 30,
   "id": "e0a36698-ab3d-4144-8a97-4c7f199de8ce",
   "metadata": {},
   "outputs": [
    {
     "data": {
      "text/plain": [
       "<matplotlib.collections.LineCollection at 0x7fbd1f133520>"
      ]
     },
     "execution_count": 30,
     "metadata": {},
     "output_type": "execute_result"
    },
    {
     "data": {
      "image/png": "[encoded data removed]",
      "text/plain": [
       "<Figure size 640x480 with 1 Axes>"
      ]
     },
     "metadata": {},
     "output_type": "display_data"
    }
   ],
   "source": [
    "import matplotlib.pyplot as plt\n",
    "fig, ax = plt.subplots(1, 1)\n",
    "x = np.arange(0, 100)\n",
    "ax.plot(x, binom.pmf(x, n, p), 'bo', ms=8, label='binom pmf')\n",
    "ax.vlines(x, 0, binom.pmf(x, n, p), colors='b', lw=5, alpha=0.5)"
   ]
  },
  {
   "cell_type": "markdown",
   "id": "59527331-d470-4ce9-83f1-54d959692f3c",
   "metadata": {},
   "source": [
    "# `pmf` and `cdf` of the binomial distribution"
   ]
  },
  {
   "cell_type": "code",
   "execution_count": 31,
   "id": "82797506-c9ea-4ada-b042-5b6a448123ea",
   "metadata": {},
   "outputs": [],
   "source": [
    "df = pd.DataFrame()\n",
    "df[\"head\"] = range(0, 101)"
   ]
  },
  {
   "cell_type": "code",
   "execution_count": 33,
   "id": "a8ff81b6-bb08-4eeb-a54a-524dc277f3ad",
   "metadata": {},
   "outputs": [],
   "source": [
    "df[\"probability\"] = binom.pmf(df[\"head\"], 100, 0.5)"
   ]
  },
  {
   "cell_type": "code",
   "execution_count": 37,
   "id": "8b023e03-d285-4979-b7ee-9ea9574c16a4",
   "metadata": {},
   "outputs": [],
   "source": [
    "df[\"cumulative probability\"] = binom.cdf(df[\"head\"], 100, 0.5)"
   ]
  },
  {
   "cell_type": "code",
   "execution_count": 38,
   "id": "d225bc80-7f68-4a04-960a-bd2e5d81c423",
   "metadata": {},
   "outputs": [
    {
     "data": {
      "text/plain": [
       "<Axes: xlabel='head'>"
      ]
     },
     "execution_count": 38,
     "metadata": {},
     "output_type": "execute_result"
    },
    {
     "data": {
      "image/png": "[encoded data removed]",
      "text/plain": [
       "<Figure size 640x480 with 1 Axes>"
      ]
     },
     "metadata": {},
     "output_type": "display_data"
    }
   ],
   "source": [
    "df.set_index(\"head\").plot()"
   ]
  },
  {
   "cell_type": "code",
   "execution_count": 41,
   "id": "9837fa36-6db3-4a6a-9e96-817d634dd359",
   "metadata": {},
   "outputs": [
    {
     "data": {
      "text/plain": [
       "63.0"
      ]
     },
     "execution_count": 41,
     "metadata": {},
     "output_type": "execute_result"
    }
   ],
   "source": [
    "binom.ppf(0.995, 100, 0.5)"
   ]
  },
  {
   "cell_type": "markdown",
   "id": "5ffe7ba6-7b2d-4af1-a4b8-666e20422bb2",
   "metadata": {},
   "source": [
    "# Recovering 1.96 as correction factor for confidence interval 95%"
   ]
  },
  {
   "cell_type": "code",
   "execution_count": 42,
   "id": "e32861d2-1cda-4503-8eb0-d5b8335132bd",
   "metadata": {},
   "outputs": [],
   "source": [
    "from scipy.stats import norm"
   ]
  },
  {
   "cell_type": "code",
   "execution_count": 45,
   "id": "fcf769e7-2386-4ca2-bafc-f916886e8578",
   "metadata": {},
   "outputs": [
    {
     "data": {
      "text/plain": [
       "-1.9599639845400545"
      ]
     },
     "execution_count": 45,
     "metadata": {},
     "output_type": "execute_result"
    }
   ],
   "source": [
    "norm.ppf(0.025)"
   ]
  },
  {
   "cell_type": "code",
   "execution_count": 46,
   "id": "a1ee2bc2-8fb2-4d13-a031-6e43bd927eda",
   "metadata": {},
   "outputs": [
    {
     "data": {
      "text/plain": [
       "1.959963984540054"
      ]
     },
     "execution_count": 46,
     "metadata": {},
     "output_type": "execute_result"
    }
   ],
   "source": [
    "norm.ppf(0.975)"
   ]
  },
  {
   "cell_type": "code",
   "execution_count": null,
   "id": "a504d008-bc98-44a6-b3b8-26479a49db7d",
   "metadata": {},
   "outputs": [],
   "source": []
  }
 ],
 "metadata": {
  "kernelspec": {
   "display_name": "Python 3 (ipykernel)",
   "language": "python",
   "name": "python3"
  },
  "language_info": {
   "codemirror_mode": {
    "name": "ipython",
    "version": 3
   },
   "file_extension": ".py",
   "mimetype": "text/x-python",
   "name": "python",
   "nbconvert_exporter": "python",
   "pygments_lexer": "ipython3",
   "version": "3.8.10"
  }
 },
 "nbformat": 4,
 "nbformat_minor": 5
}
