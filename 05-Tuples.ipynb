{
 "cells": [
  {
   "cell_type": "markdown",
   "metadata": {},
   "source": [
    "## Tuples\n",
    "\n",
    "A tuple is a collection of different data types which is ordered and unchangeable (immutable). Tuples are written with round brackets, (). Once a tuple is created, we cannot change its values. We cannot use add, insert, remove methods in a tuple because it is not modifiable (mutable). Unlike list, tuple has few methods. Methods related to tuples:\n",
    "\n",
    "- tuple(): to create an empty tuple\n",
    "- count(): to count the number of a specified item in a tuple\n",
    "- index(): to find the index of a specified item in a tuple\n",
    "- + operator: to join two or more tuples and to create a new tuple\n",
    "\n",
    "### Creating a Tuple\n",
    "\n",
    "- Empty tuple: Creating an empty tuple\n",
    "  \n",
    "  ```py\n",
    "  # syntax\n",
    "  empty_tuple = ()\n",
    "  # or using the tuple constructor\n",
    "  empty_tuple = tuple()\n",
    "  ```\n",
    "\n",
    "- Tuple with initial values\n",
    "  \n",
    "  ```py\n",
    "  # syntax\n",
    "  tpl = ('item1', 'item2','item3')\n",
    "  ```\n",
    "\n",
    "  ```py\n",
    "  fruits = ('banana', 'orange', 'mango', 'lemon')\n",
    "  ```\n",
    "\n",
    "### Tuple length\n",
    "\n",
    "We use the _len()_ method to get the length of a tuple."
   ]
  },
  {
   "cell_type": "code",
   "execution_count": null,
   "metadata": {},
   "outputs": [],
   "source": [
    "# syntax\n",
    "tpl = ('item1', 'item2', 'item3')\n",
    "len(tpl)"
   ]
  },
  {
   "cell_type": "markdown",
   "metadata": {},
   "source": [
    "### Accessing Tuple Items\n",
    "\n",
    "- Positive Indexing\n",
    "  Similar to the list data type we use positive or negative indexing to access tuple items.\n",
    "  ![Accessing tuple items](../images/tuples_index.png)\n",
    "\n",
    "  ```py\n",
    "  # Syntax\n",
    "  tpl = ('item1', 'item2', 'item3')\n",
    "  first_item = tpl[0]\n",
    "  second_item = tpl[1]\n",
    "  ```\n",
    "\n",
    "  ```py\n",
    "  fruits = ('banana', 'orange', 'mango', 'lemon')\n",
    "  first_fruit = fruits[0]\n",
    "  second_fruit = fruits[1]\n",
    "  last_index =len(fruits) - 1\n",
    "  last_fruit = fruits[las_index]\n",
    "  ```\n",
    "\n",
    "- Negative indexing\n",
    "  Negative indexing means beginning from the end, -1 refers to the last item, -2 refers to the second last and the negative of the list/tuple length refers to the first item.\n",
    "  ![Tuple Negative indexing](../images/tuple_negative_indexing.png)\n",
    "\n",
    "  ```py\n",
    "  # Syntax\n",
    "  tpl = ('item1', 'item2', 'item3','item4')\n",
    "  first_item = tpl[-4]\n",
    "  second_item = tpl[-3]\n",
    "  ```\n",
    "\n",
    "  ```py\n",
    "  fruits = ('banana', 'orange', 'mango', 'lemon')\n",
    "  first_fruit = fruits[-4]\n",
    "  second_fruit = fruits[-3]\n",
    "  last_fruit = fruits[-1]\n",
    "  ```\n",
    "\n",
    "### Slicing tuples\n",
    "\n",
    "We can slice out a sub-tuple by specifying a range of indexes where to start and where to end in the tuple, the return value will be a new tuple with the specified items.\n",
    "\n",
    "- Range of Positive Indexes\n",
    "\n",
    "  ```py\n",
    "  # Syntax\n",
    "  tpl = ('item1', 'item2', 'item3','item4')\n",
    "  all_items = tpl[0:4]         # all items\n",
    "  all_items = tpl[0:]         # all items\n",
    "  middle_two_items = tpl[1:3]  # does not include item at index 3\n",
    "  ```\n",
    "\n",
    "  ```py\n",
    "  fruits = ('banana', 'orange', 'mango', 'lemon')\n",
    "  all_fruits = fruits[0:4]    # all items\n",
    "  all_fruits= fruits[0:]      # all items\n",
    "  orange_mango = fruits[1:3]  # doesn't include item at index 3\n",
    "  orange_to_the_rest = fruits[1:]\n",
    "  ```\n",
    "\n",
    "- Range of Negative Indexes\n",
    "\n",
    "  ```py\n",
    "  # Syntax\n",
    "  tpl = ('item1', 'item2', 'item3','item4')\n",
    "  all_items = tpl[-4:]         # all items\n",
    "  middle_two_items = tpl[-3:-1]  # does not include item at index 3 (-1)\n",
    "  ```\n",
    "\n",
    "  ```py\n",
    "  fruits = ('banana', 'orange', 'mango', 'lemon')\n",
    "  all_fruits = fruits[-4:]    # all items\n",
    "  orange_mango = fruits[-3:-1]  # doesn't include item at index 3\n",
    "  orange_to_the_rest = fruits[-3:]\n",
    "  ```\n",
    "\n",
    "### Changing Tuples to Lists\n",
    "\n",
    "We can change tuples to lists and lists to tuples. Tuple is immutable if we want to modify a tuple we should change it to a list."
   ]
  },
  {
   "cell_type": "code",
   "execution_count": null,
   "metadata": {},
   "outputs": [],
   "source": [
    "# Syntax\n",
    "tpl = ('item1', 'item2', 'item3','item4')\n",
    "lst = list(tpl)"
   ]
  },
  {
   "cell_type": "markdown",
   "metadata": {},
   "source": []
  },
  {
   "cell_type": "code",
   "execution_count": null,
   "metadata": {},
   "outputs": [],
   "source": [
    "fruits = ('banana', 'orange', 'mango', 'lemon')\n",
    "fruits = list(fruits)\n",
    "fruits[0] = 'apple'\n",
    "print(fruits)     # ['apple', 'orange', 'mango', 'lemon']\n",
    "fruits = tuple(fruits)\n",
    "print(fruits)     # ('apple', 'orange', 'mango', 'lemon')"
   ]
  },
  {
   "cell_type": "markdown",
   "metadata": {},
   "source": [
    "### Checking an Item in a Tuple\n",
    "\n",
    "We can check if an item exists or not in a tuple using _in_, it returns a boolean."
   ]
  },
  {
   "cell_type": "code",
   "execution_count": null,
   "metadata": {},
   "outputs": [],
   "source": [
    "# Syntax\n",
    "tpl = ('item1', 'item2', 'item3','item4')\n",
    "'item2' in tpl # True"
   ]
  },
  {
   "cell_type": "markdown",
   "metadata": {},
   "source": []
  },
  {
   "cell_type": "code",
   "execution_count": null,
   "metadata": {},
   "outputs": [],
   "source": [
    "fruits = ('banana', 'orange', 'mango', 'lemon')\n",
    "print('orange' in fruits) # True\n",
    "print('apple' in fruits) # False\n",
    "fruits[0] = 'apple' # TypeError: 'tuple' object does not support item assignment"
   ]
  },
  {
   "cell_type": "markdown",
   "metadata": {},
   "source": [
    "### Joining Tuples\n",
    "\n",
    "We can join two or more tuples using + operator"
   ]
  },
  {
   "cell_type": "code",
   "execution_count": null,
   "metadata": {},
   "outputs": [],
   "source": [
    "# syntax\n",
    "tpl1 = ('item1', 'item2', 'item3')\n",
    "tpl2 = ('item4', 'item5','item6')\n",
    "tpl3 = tpl1 + tpl2"
   ]
  },
  {
   "cell_type": "markdown",
   "metadata": {},
   "source": []
  },
  {
   "cell_type": "code",
   "execution_count": null,
   "metadata": {},
   "outputs": [],
   "source": [
    "fruits = ('banana', 'orange', 'mango', 'lemon')\n",
    "vegetables = ('Tomato', 'Potato', 'Cabbage','Onion', 'Carrot')\n",
    "fruits_and_vegetables = fruits + vegetables"
   ]
  },
  {
   "cell_type": "markdown",
   "metadata": {},
   "source": [
    "### Deleting Tuples\n",
    "\n",
    "It is not possible to remove a single item in a tuple but it is possible to delete the tuple itself using _del_."
   ]
  },
  {
   "cell_type": "code",
   "execution_count": null,
   "metadata": {},
   "outputs": [],
   "source": [
    "# syntax\n",
    "tpl1 = ('item1', 'item2', 'item3')\n",
    "del tpl1"
   ]
  },
  {
   "cell_type": "markdown",
   "metadata": {},
   "source": []
  },
  {
   "cell_type": "code",
   "execution_count": null,
   "metadata": {},
   "outputs": [],
   "source": [
    "fruits = ('banana', 'orange', 'mango', 'lemon')\n",
    "del fruits"
   ]
  },
  {
   "cell_type": "markdown",
   "metadata": {},
   "source": [
    "## 💻 Exercises: Day 6\n",
    "\n",
    "### Exercises: Level 1\n",
    "\n",
    "1. Create an empty tuple\n",
    "2. Create a tuple containing names of your sisters and your brothers (imaginary siblings are fine)\n",
    "3. Join brothers and sisters tuples and assign it to siblings\n",
    "4. How many siblings do you have?\n",
    "5. Modify the siblings tuple and add the name of your father and mother and assign it to family_members\n",
    "\n",
    "### Exercises: Level 2\n",
    "\n",
    "1. Unpack siblings and parents from family_members\n",
    "1. Create fruits, vegetables and animal products tuples. Join the three tuples and assign it to a variable called food_stuff_tp.\n",
    "1. Change the about food_stuff_tp  tuple to a food_stuff_lt list\n",
    "1. Slice out the middle item or items from the food_stuff_tp tuple or food_stuff_lt list.\n",
    "1. Slice out the first three items and the last three items from food_staff_lt list\n",
    "1. Delete the food_staff_tp tuple completely\n",
    "1. Check if an item exists in  tuple:\n",
    "\n",
    "- Check if 'Estonia' is a nordic country\n",
    "- Check if 'Iceland' is a nordic country\n",
    "\n",
    "  ```py\n",
    "  nordic_countries = ('Denmark', 'Finland','Iceland', 'Norway', 'Sweden')\n",
    "  ```"
   ]
  }
 ],
 "metadata": {
  "kernelspec": {
   "display_name": "Python 3 (ipykernel)",
   "language": "python",
   "name": "python3"
  },
  "language_info": {
   "codemirror_mode": {
    "name": "ipython",
    "version": 3
   },
   "file_extension": ".py",
   "mimetype": "text/x-python",
   "name": "python",
   "nbconvert_exporter": "python",
   "pygments_lexer": "ipython3",
   "version": "3.8.10"
  }
 },
 "nbformat": 4,
 "nbformat_minor": 4
}
