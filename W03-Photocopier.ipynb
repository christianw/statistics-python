{
 "cells": [
  {
   "cell_type": "code",
   "execution_count": null,
   "id": "48d5c8b5-73a6-4d3e-a880-c5dd836c08b9",
   "metadata": {},
   "outputs": [],
   "source": [
    "import pandas as pd"
   ]
  },
  {
   "cell_type": "markdown",
   "id": "9192ee8a-c7d9-4d05-95ff-b9e3ac156935",
   "metadata": {},
   "source": [
    "read dataframe from either local file or remote file (copy Github URL)"
   ]
  },
  {
   "cell_type": "code",
   "execution_count": null,
   "id": "475d73a9-e4fd-479f-8320-941b94a192d1",
   "metadata": {},
   "outputs": [],
   "source": [
    "pd.read_excel('Photo copier data.xlsx')"
   ]
  },
  {
   "cell_type": "code",
   "execution_count": null,
   "id": "8c8d55d0-bdfc-420d-a49c-1d4b2bb2c7ee",
   "metadata": {},
   "outputs": [],
   "source": [
    "df = pd.read_excel('Photo copier data.xlsx')"
   ]
  },
  {
   "cell_type": "code",
   "execution_count": null,
   "id": "cb3961b6-00a9-4847-9f9d-4c9c672d0875",
   "metadata": {},
   "outputs": [],
   "source": [
    "df"
   ]
  },
  {
   "cell_type": "code",
   "execution_count": null,
   "id": "53c90ddf-dfc3-4aca-982c-fe582ecd27c7",
   "metadata": {},
   "outputs": [],
   "source": [
    "df.info()"
   ]
  },
  {
   "cell_type": "code",
   "execution_count": null,
   "id": "6a10a4ab-75ec-438c-b373-7fa974045f74",
   "metadata": {},
   "outputs": [],
   "source": [
    "df[0:10]"
   ]
  },
  {
   "cell_type": "code",
   "execution_count": null,
   "id": "576b70c4-bbe0-49d9-8cf2-df3e3786506c",
   "metadata": {},
   "outputs": [],
   "source": [
    "df[\"CSI\"]"
   ]
  },
  {
   "cell_type": "code",
   "execution_count": null,
   "id": "ea8a0125-61ab-4396-96f7-886348900e23",
   "metadata": {},
   "outputs": [],
   "source": [
    "df[\"CSI\"].mean()"
   ]
  },
  {
   "cell_type": "code",
   "execution_count": null,
   "id": "bf25ef64-136c-4c16-9640-11f003259cbd",
   "metadata": {},
   "outputs": [],
   "source": [
    "df[\"WOM\"].mean()"
   ]
  },
  {
   "cell_type": "code",
   "execution_count": null,
   "id": "f50a03dd-6132-4521-864b-816cbe609769",
   "metadata": {},
   "outputs": [],
   "source": [
    "df[\"CSI\"].median()"
   ]
  },
  {
   "cell_type": "code",
   "execution_count": null,
   "id": "65b1b06a-07f6-4be6-b6b4-dcc4d78c5d11",
   "metadata": {},
   "outputs": [],
   "source": [
    "df[\"CSI\"].var()"
   ]
  },
  {
   "cell_type": "code",
   "execution_count": null,
   "id": "c1e341ca-4f1d-4a90-b10a-5ad9378b4fd5",
   "metadata": {},
   "outputs": [],
   "source": [
    "df[\"CSI\"].std()"
   ]
  },
  {
   "cell_type": "code",
   "execution_count": null,
   "id": "a3329ad9-cc27-4cb7-b848-f9df077ffc61",
   "metadata": {},
   "outputs": [],
   "source": [
    "df[\"CSI\"].mode()"
   ]
  },
  {
   "cell_type": "code",
   "execution_count": null,
   "id": "43fca242-d4bd-4920-9c24-416564cc4e5b",
   "metadata": {},
   "outputs": [],
   "source": [
    "df[\"CSI\"].quantile(0.25)"
   ]
  },
  {
   "cell_type": "markdown",
   "id": "0bdbe32f-ee10-4cca-9e05-4cfe3466deea",
   "metadata": {},
   "source": [
    "# Nominal values"
   ]
  },
  {
   "cell_type": "code",
   "execution_count": null,
   "id": "b03c6495-4a60-4424-98c0-6331a97bf14a",
   "metadata": {},
   "outputs": [],
   "source": [
    "df[\"Priority\"]"
   ]
  },
  {
   "cell_type": "code",
   "execution_count": null,
   "id": "f82d7afe-6f46-4cb0-a059-a3e71b879197",
   "metadata": {},
   "outputs": [],
   "source": [
    "df[\"Priority\"].value_counts()"
   ]
  },
  {
   "cell_type": "code",
   "execution_count": null,
   "id": "8e457fd2-df3d-437d-aa49-57cbf9dcb371",
   "metadata": {},
   "outputs": [],
   "source": [
    "df[\"Priority\"].value_counts().plot.bar()"
   ]
  },
  {
   "cell_type": "markdown",
   "id": "b6cc1925-bdb8-4575-9439-f9bf637eadd0",
   "metadata": {},
   "source": [
    "# All in one"
   ]
  },
  {
   "cell_type": "code",
   "execution_count": null,
   "id": "d07adc11-1137-4a50-a5fd-f7969622e55c",
   "metadata": {},
   "outputs": [],
   "source": [
    "df.describe()"
   ]
  },
  {
   "cell_type": "code",
   "execution_count": null,
   "id": "fcaf792d-d201-4163-9faf-0f608f65eedf",
   "metadata": {},
   "outputs": [],
   "source": [
    "df.describe()"
   ]
  },
  {
   "cell_type": "markdown",
   "id": "929bb2f4-d1b1-40c7-89ce-fbafc870b264",
   "metadata": {},
   "source": [
    "# Selecting rows"
   ]
  },
  {
   "cell_type": "code",
   "execution_count": null,
   "id": "690236ab-a66d-4418-8669-b649deecdbe4",
   "metadata": {},
   "outputs": [],
   "source": [
    "df[df[\"Priority\"]==\"A\"]"
   ]
  },
  {
   "cell_type": "code",
   "execution_count": null,
   "id": "15759d1c-c606-49ef-a9e7-779152af991f",
   "metadata": {},
   "outputs": [],
   "source": [
    "df[df[\"Priority\"]==\"A\"][\"CSI\"].mean()"
   ]
  },
  {
   "cell_type": "code",
   "execution_count": null,
   "id": "92d3b0a4-8f98-454a-b512-96944387b835",
   "metadata": {},
   "outputs": [],
   "source": [
    "df_a = df[df[\"Priority\"]==\"A\"]"
   ]
  },
  {
   "cell_type": "code",
   "execution_count": null,
   "id": "2bbba3ee-6f78-4770-a59c-032dae279e73",
   "metadata": {},
   "outputs": [],
   "source": [
    "df_a[\"CSI\"].mean()"
   ]
  },
  {
   "cell_type": "markdown",
   "id": "0324cd90-1487-4866-8f4b-ca190dd87794",
   "metadata": {},
   "source": [
    "# Grouping"
   ]
  },
  {
   "cell_type": "code",
   "execution_count": null,
   "id": "c7b2330a-5907-411a-b81c-3e7c57fb73d7",
   "metadata": {},
   "outputs": [],
   "source": [
    "df"
   ]
  },
  {
   "cell_type": "code",
   "execution_count": null,
   "id": "04bcfccc-8ac0-4877-83ca-2dc101424d02",
   "metadata": {},
   "outputs": [],
   "source": [
    "df.groupby(\"Priority\")[\"CSI\"].mean()"
   ]
  },
  {
   "cell_type": "code",
   "execution_count": null,
   "id": "a4d9477c-7720-424c-9ae8-c1c5fd930a13",
   "metadata": {},
   "outputs": [],
   "source": [
    "df.groupby(\"Priority\")[\"CSI\"].var()"
   ]
  },
  {
   "cell_type": "code",
   "execution_count": null,
   "id": "8580357b-302c-4340-a8e4-b86a085ccdea",
   "metadata": {},
   "outputs": [],
   "source": [
    "df.groupby(\"Priority\")[\"CSI\"].count()"
   ]
  },
  {
   "cell_type": "code",
   "execution_count": null,
   "id": "52090d20-860a-4c57-ab92-f1cc7886d8b0",
   "metadata": {},
   "outputs": [],
   "source": [
    "df.groupby(\"Priority\").agg({ \"CSI\": \"mean\", \"WOM\": \"mean\"})"
   ]
  },
  {
   "cell_type": "code",
   "execution_count": null,
   "id": "c03a307b-cedc-4e26-b3db-239df54c5d82",
   "metadata": {},
   "outputs": [],
   "source": [
    "pip install eurostat"
   ]
  }
 ],
 "metadata": {
  "kernelspec": {
   "display_name": "Python 3 (ipykernel)",
   "language": "python",
   "name": "python3"
  },
  "language_info": {
   "codemirror_mode": {
    "name": "ipython",
    "version": 3
   },
   "file_extension": ".py",
   "mimetype": "text/x-python",
   "name": "python",
   "nbconvert_exporter": "python",
   "pygments_lexer": "ipython3",
   "version": "3.8.10"
  }
 },
 "nbformat": 4,
 "nbformat_minor": 5
}
